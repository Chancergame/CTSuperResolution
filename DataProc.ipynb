{
 "cells": [
  {
   "cell_type": "code",
   "execution_count": 2,
   "metadata": {},
   "outputs": [],
   "source": [
    "import pydicom as dicom\n",
    "import numpy as np\n",
    "import pandas as pd\n",
    "from os import listdir\n",
    "from os.path import isfile, join\n",
    "import cv2\n",
    "from random import shuffle"
   ]
  },
  {
   "cell_type": "code",
   "execution_count": 8,
   "metadata": {},
   "outputs": [],
   "source": [
    "meta = pd.read_csv('metadata.csv', sep=',')\n",
    "paths = list(meta['File Location'])\n",
    "paths = [i[2:].replace('\\\\', '/') for i in paths]\n",
    "images = []\n",
    "for path in paths:\n",
    "    files = [path + '/' + f for f in listdir(path) if isfile(join(path, f))]\n",
    "    for file in files:\n",
    "        img = dicom.dcmread(file).pixel_array\n",
    "        if img.shape == (512, 512):\n",
    "            images.append(file)\n"
    "shuffle(images)"
   ]
  },
  {
   "cell_type": "code",
   "execution_count": null,
   "metadata": {},
   "outputs": [],
   "source": [
    "#indent = 128\n",
    "for i, img_dir in enumerate(images):\n",
    "    img = dicom.dcmread(img_dir).pixel_array\n",
    "    img = (img - img.min()) / (img.max() - img.min()) * 255.0  \n",
    "    #img = img[indent:-indent, indent:-indent].astype(np.uint8)\n",
    "    #plt.imshow(img)\n",
    "    cv2.imwrite(f'Images/{i}.png', img)"
   ]
  }
 ],
 "metadata": {
  "kernelspec": {
   "display_name": "Python 3",
   "language": "python",
   "name": "python3"
  },
  "language_info": {
   "codemirror_mode": {
    "name": "ipython",
    "version": 3
   },
   "file_extension": ".py",
   "mimetype": "text/x-python",
   "name": "python",
   "nbconvert_exporter": "python",
   "pygments_lexer": "ipython3",
   "version": "3.9.7"
  }
 },
 "nbformat": 4,
 "nbformat_minor": 2
}
